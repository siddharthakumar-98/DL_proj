{
 "cells": [
  {
   "cell_type": "markdown",
   "metadata": {},
   "source": [
    "### Satellite image preprocessing"
   ]
  },
  {
   "cell_type": "code",
   "execution_count": 14,
   "metadata": {},
   "outputs": [],
   "source": [
    "import os\n",
    "import pandas as pd\n",
    "import rasterio\n",
    "from datetime import datetime\n",
    "\n"
   ]
  },
  {
   "cell_type": "code",
   "execution_count": 32,
   "metadata": {},
   "outputs": [],
   "source": [
    "visited = [] # visited lst\n",
    "final_turb_dict = {}\n",
    "dir_path = os.path.dirname(os.path.abspath(''))\n",
    "proj_dir = dir_path + '/Planet/'\n",
    "os.chdir(proj_dir)\n",
    "# main_directory = os.listdir(proj_dir)\n",
    "# main_directory.sort() # sorts alphabetically for strings\n",
    "\n",
    "# Set the path to your main directory containing the site subdirectories\n",
    "# main_directory = '/path/to/your/main_directory'\n",
    "\n",
    "# Initialize a list to hold processed data\n",
    "processed_data = []\n",
    "\n",
    "# Loop through each subdirectory (site)\n",
    "for site_folder in os.listdir(proj_dir):\n",
    "    if site_folder.startswith('013'):\n",
    "        if 'json' not in site_folder:\n",
    "            site_path = os.path.join(proj_dir, site_folder)\n",
    "            \n",
    "            # Check if the current path is a directory\n",
    "            if os.path.isdir(site_path):\n",
    "                # Load the target data\n",
    "                targets_path = os.path.join(site_path, 'targets.csv')\n",
    "                targets_df = pd.read_csv(targets_path, index_col=[0])\n",
    "                targets_df.index = pd.to_datetime(targets_df.index).date\n",
    "                \n",
    "                # Loop through each .tif file in the subdirectory\n",
    "                for file in os.listdir(site_path):\n",
    "                    if file.endswith('.tif'):\n",
    "                        # Extract the date from the filename\n",
    "                        date_str = file[:8]  # Assuming the date is the first 8 characters\n",
    "                        date = datetime.strptime(date_str, '%Y%m%d').date()\n",
    "                        \n",
    "                        # Check if the date is in the targets DataFrame\n",
    "                        if date in targets_df.index:\n",
    "                            target_value = targets_df.loc[date, 'turbidity (FNU)']\n",
    "                            \n",
    "                            # Read the .tif file as a 4-dimensional array\n",
    "                            tif_path = os.path.join(site_path, file)\n",
    "                            with rasterio.open(tif_path) as src:\n",
    "                                raster_array = src.read()  # (bands, width, height)\n",
    "                            \n",
    "                            # Append the data to the processed_data list\n",
    "                            processed_data.append({\n",
    "                                'site': site_folder,\n",
    "                                'date': date,\n",
    "                                'raster': raster_array,\n",
    "                                'target': target_value\n",
    "                            })\n",
    "\n",
    "                \n",
    "    \n"
   ]
  },
  {
   "cell_type": "code",
   "execution_count": 35,
   "metadata": {},
   "outputs": [],
   "source": [
    "processed_df = pd.DataFrame(processed_data)\n",
    "processed_df.to_csv('processed_df.csv', index=False)"
   ]
  }
 ],
 "metadata": {
  "kernelspec": {
   "display_name": "DataScience",
   "language": "python",
   "name": "python3"
  },
  "language_info": {
   "codemirror_mode": {
    "name": "ipython",
    "version": 3
   },
   "file_extension": ".py",
   "mimetype": "text/x-python",
   "name": "python",
   "nbconvert_exporter": "python",
   "pygments_lexer": "ipython3",
   "version": "3.10.13"
  }
 },
 "nbformat": 4,
 "nbformat_minor": 2
}
